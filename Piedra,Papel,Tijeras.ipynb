{
  "nbformat": 4,
  "nbformat_minor": 0,
  "metadata": {
    "colab": {
      "provenance": [],
      "authorship_tag": "ABX9TyOpAvbp/wrc83T3zcoBPsnI",
      "include_colab_link": true
    },
    "kernelspec": {
      "name": "python3",
      "display_name": "Python 3"
    },
    "language_info": {
      "name": "python"
    }
  },
  "cells": [
    {
      "cell_type": "markdown",
      "metadata": {
        "id": "view-in-github",
        "colab_type": "text"
      },
      "source": [
        "<a href=\"https://colab.research.google.com/github/PAAANDER/Piedra-Papel-o-Tijeras/blob/main/Piedra%2CPapel%2CTijeras.ipynb\" target=\"_parent\"><img src=\"https://colab.research.google.com/assets/colab-badge.svg\" alt=\"Open In Colab\"/></a>"
      ]
    },
    {
      "cell_type": "code",
      "execution_count": null,
      "metadata": {
        "id": "w1AuGQbOKPEb"
      },
      "outputs": [],
      "source": [
        "import random"
      ]
    },
    {
      "cell_type": "code",
      "source": [
        "def jugar_piedra_papel_tijeras():\n",
        "\n",
        "    print(\"¡Bienvenido al juego de Piedra, Papel y Tijeras!\")\n",
        "    while True:\n",
        "\n",
        "        eleccion_usuario = obtener_eleccion_usuario()\n",
        "        eleccion_computadora = obtener_eleccion_computadora()\n",
        "        print(f\"Tú elegiste: {eleccion_usuario}\")\n",
        "        print(f\"La computadora eligió: {eleccion_computadora}\")\n",
        "\n",
        "\n",
        "        ganador = determinar_ganador(eleccion_usuario, eleccion_computadora)\n",
        "\n",
        "        if ganador == \"Empate\":\n",
        "            print(\"¡Empate!\")\n",
        "        else:\n",
        "            print(f\"¡{ganador} gana!\")\n",
        "\n",
        "\n",
        "jugar_piedra_papel_tijeras()\n"
      ],
      "metadata": {
        "colab": {
          "base_uri": "https://localhost:8080/"
        },
        "id": "qBq43qHlKqaU",
        "outputId": "19f7283d-d605-47a6-a270-b89c030e1c2c"
      },
      "execution_count": null,
      "outputs": [
        {
          "metadata": {
            "tags": null
          },
          "name": "stdout",
          "output_type": "stream",
          "text": [
            "¡Bienvenido al juego de Piedra, Papel y Tijeras!\n",
            "Tú elegiste: Papel\n",
            "La computadora eligió: Papel\n",
            "¡Empate!\n",
            "Tú elegiste: Piedra\n",
            "La computadora eligió: Piedra\n",
            "¡Empate!\n",
            "Eleccion no válida. Por favor, elige Piedra, Papel o Tijeras.\n",
            "Tú elegiste: Tijeras\n",
            "La computadora eligió: Papel\n",
            "¡Usuario gana!\n"
          ]
        }
      ]
    }
  ]
}